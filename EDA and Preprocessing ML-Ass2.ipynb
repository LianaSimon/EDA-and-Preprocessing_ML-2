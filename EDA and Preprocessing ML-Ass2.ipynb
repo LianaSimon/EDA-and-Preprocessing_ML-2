{
 "cells": [
  {
   "cell_type": "markdown",
   "id": "4dea9d3e-0831-430a-98bb-28a3fdb1e412",
   "metadata": {},
   "source": [
    "# EDA & PREPROCESSING\n",
    "\n",
    "### Objective:\n",
    "#### The main objective of this project is to design and implement a robust data preprocessing system that addresses common challenges such as missing values, outliers, inconsistent formatting, and noise. By performing effective data preprocessing, the project aims to enhance the quality, reliability, and usefulness of the data for machine learning.\n"
   ]
  },
  {
   "cell_type": "code",
   "execution_count": 11,
   "id": "a00e698e-b3ce-4a7b-b1b9-6da5f5907099",
   "metadata": {},
   "outputs": [],
   "source": [
    "import pandas as pd\n",
    "import numpy as np\n",
    "import matplotlib.pyplot as plt\n",
    "import seaborn as sns\n",
    "from sklearn.preprocessing import LabelEncoder,OneHotEncoder,StandardScaler,MinMaxScaler\n",
    "from sklearn.impute import SimpleImputer\n",
    "from collections import Counter"
   ]
  },
  {
   "cell_type": "code",
   "execution_count": 12,
   "id": "3fce0e64-75a6-49ba-a12a-f4c182b6b4bd",
   "metadata": {},
   "outputs": [
    {
     "data": {
      "text/html": [
       "<div>\n",
       "<style scoped>\n",
       "    .dataframe tbody tr th:only-of-type {\n",
       "        vertical-align: middle;\n",
       "    }\n",
       "\n",
       "    .dataframe tbody tr th {\n",
       "        vertical-align: top;\n",
       "    }\n",
       "\n",
       "    .dataframe thead th {\n",
       "        text-align: right;\n",
       "    }\n",
       "</style>\n",
       "<table border=\"1\" class=\"dataframe\">\n",
       "  <thead>\n",
       "    <tr style=\"text-align: right;\">\n",
       "      <th></th>\n",
       "      <th>Company</th>\n",
       "      <th>Age</th>\n",
       "      <th>Salary</th>\n",
       "      <th>Place</th>\n",
       "      <th>Country</th>\n",
       "      <th>Gender</th>\n",
       "    </tr>\n",
       "  </thead>\n",
       "  <tbody>\n",
       "    <tr>\n",
       "      <th>0</th>\n",
       "      <td>TCS</td>\n",
       "      <td>20.0</td>\n",
       "      <td>NaN</td>\n",
       "      <td>Chennai</td>\n",
       "      <td>India</td>\n",
       "      <td>0</td>\n",
       "    </tr>\n",
       "    <tr>\n",
       "      <th>1</th>\n",
       "      <td>Infosys</td>\n",
       "      <td>30.0</td>\n",
       "      <td>NaN</td>\n",
       "      <td>Mumbai</td>\n",
       "      <td>India</td>\n",
       "      <td>0</td>\n",
       "    </tr>\n",
       "    <tr>\n",
       "      <th>2</th>\n",
       "      <td>TCS</td>\n",
       "      <td>35.0</td>\n",
       "      <td>2300.0</td>\n",
       "      <td>Calcutta</td>\n",
       "      <td>India</td>\n",
       "      <td>0</td>\n",
       "    </tr>\n",
       "    <tr>\n",
       "      <th>3</th>\n",
       "      <td>Infosys</td>\n",
       "      <td>40.0</td>\n",
       "      <td>3000.0</td>\n",
       "      <td>Delhi</td>\n",
       "      <td>India</td>\n",
       "      <td>0</td>\n",
       "    </tr>\n",
       "    <tr>\n",
       "      <th>4</th>\n",
       "      <td>TCS</td>\n",
       "      <td>23.0</td>\n",
       "      <td>4000.0</td>\n",
       "      <td>Mumbai</td>\n",
       "      <td>India</td>\n",
       "      <td>0</td>\n",
       "    </tr>\n",
       "  </tbody>\n",
       "</table>\n",
       "</div>"
      ],
      "text/plain": [
       "   Company   Age  Salary     Place Country  Gender\n",
       "0      TCS  20.0     NaN   Chennai   India       0\n",
       "1  Infosys  30.0     NaN    Mumbai   India       0\n",
       "2      TCS  35.0  2300.0  Calcutta   India       0\n",
       "3  Infosys  40.0  3000.0     Delhi   India       0\n",
       "4      TCS  23.0  4000.0    Mumbai   India       0"
      ]
     },
     "execution_count": 12,
     "metadata": {},
     "output_type": "execute_result"
    }
   ],
   "source": [
    "# Loading Dataset\n",
    "\n",
    "df=pd.read_csv(\"Employee.csv\")\n",
    "df.head()"
   ]
  },
  {
   "cell_type": "markdown",
   "id": "c8efeec4-c73d-4af1-af09-c07982dc07d8",
   "metadata": {},
   "source": [
    "## Data Exploration"
   ]
  },
  {
   "cell_type": "code",
   "execution_count": 14,
   "id": "07237b4e-3802-409a-9983-bbbd6852108b",
   "metadata": {},
   "outputs": [
    {
     "name": "stdout",
     "output_type": "stream",
     "text": [
      "<class 'pandas.core.frame.DataFrame'>\n",
      "RangeIndex: 148 entries, 0 to 147\n",
      "Data columns (total 6 columns):\n",
      " #   Column   Non-Null Count  Dtype  \n",
      "---  ------   --------------  -----  \n",
      " 0   Company  140 non-null    object \n",
      " 1   Age      130 non-null    float64\n",
      " 2   Salary   124 non-null    float64\n",
      " 3   Place    134 non-null    object \n",
      " 4   Country  148 non-null    object \n",
      " 5   Gender   148 non-null    int64  \n",
      "dtypes: float64(2), int64(1), object(3)\n",
      "memory usage: 7.1+ KB\n"
     ]
    }
   ],
   "source": [
    "# Data types and count of non-null values\n",
    "\n",
    "df.info()"
   ]
  },
  {
   "cell_type": "code",
   "execution_count": 15,
   "id": "f03289cb-db65-4fb4-aaa4-8050211e5f27",
   "metadata": {},
   "outputs": [
    {
     "name": "stdout",
     "output_type": "stream",
     "text": [
      "Feature:Company\n",
      "Unique values:['TCS' 'Infosys' 'CTS' nan 'Tata Consultancy Services' 'Congnizant'\n",
      " 'Infosys Pvt Lmt']\n",
      "Length of unique values:7\n",
      "______________________________\n",
      "Feature:Age\n",
      "Unique values:[20. 30. 35. 40. 23. nan 34. 45. 18. 22. 32. 37. 50. 21. 46. 36. 26. 41.\n",
      " 24. 25. 43. 19. 38. 51. 31. 44. 33. 17.  0. 54.]\n",
      "Length of unique values:30\n",
      "______________________________\n",
      "Feature:Salary\n",
      "Unique values:[  nan 2300. 3000. 4000. 5000. 6000. 7000. 8000. 9000. 1089. 1234. 3030.\n",
      " 3045. 3184. 4824. 5835. 7084. 8943. 8345. 9284. 9876. 2034. 7654. 2934.\n",
      " 4034. 5034. 8202. 9024. 4345. 6544. 6543. 3234. 4324. 5435. 5555. 8787.\n",
      " 3454. 5654. 5009. 5098. 3033.]\n",
      "Length of unique values:41\n",
      "______________________________\n",
      "Feature:Place\n",
      "Unique values:['Chennai' 'Mumbai' 'Calcutta' 'Delhi' 'Podicherry' 'Cochin' nan 'Noida'\n",
      " 'Hyderabad' 'Bhopal' 'Nagpur' 'Pune']\n",
      "Length of unique values:12\n",
      "______________________________\n",
      "Feature:Country\n",
      "Unique values:['India']\n",
      "Length of unique values:1\n",
      "______________________________\n",
      "Feature:Gender\n",
      "Unique values:[0 1]\n",
      "Length of unique values:2\n",
      "______________________________\n"
     ]
    }
   ],
   "source": [
    "# The unique values in each feature and find its length.\n",
    "\n",
    "for col in df.columns:\n",
    "    unique_value=df[col].unique()\n",
    "    print(f\"Feature:{col}\")\n",
    "    print(f\"Unique values:{unique_value}\")\n",
    "    print(f\"Length of unique values:{len(unique_value)}\")\n",
    "    print(f\"_\"*30)"
   ]
  },
  {
   "cell_type": "code",
   "execution_count": 16,
   "id": "d492e934-a4c7-4129-a778-80ffe3ec4b82",
   "metadata": {},
   "outputs": [
    {
     "data": {
      "text/html": [
       "<div>\n",
       "<style scoped>\n",
       "    .dataframe tbody tr th:only-of-type {\n",
       "        vertical-align: middle;\n",
       "    }\n",
       "\n",
       "    .dataframe tbody tr th {\n",
       "        vertical-align: top;\n",
       "    }\n",
       "\n",
       "    .dataframe thead th {\n",
       "        text-align: right;\n",
       "    }\n",
       "</style>\n",
       "<table border=\"1\" class=\"dataframe\">\n",
       "  <thead>\n",
       "    <tr style=\"text-align: right;\">\n",
       "      <th></th>\n",
       "      <th>Age</th>\n",
       "      <th>Salary</th>\n",
       "      <th>Gender</th>\n",
       "    </tr>\n",
       "  </thead>\n",
       "  <tbody>\n",
       "    <tr>\n",
       "      <th>count</th>\n",
       "      <td>130.000000</td>\n",
       "      <td>124.000000</td>\n",
       "      <td>148.000000</td>\n",
       "    </tr>\n",
       "    <tr>\n",
       "      <th>mean</th>\n",
       "      <td>30.484615</td>\n",
       "      <td>5312.467742</td>\n",
       "      <td>0.222973</td>\n",
       "    </tr>\n",
       "    <tr>\n",
       "      <th>std</th>\n",
       "      <td>11.096640</td>\n",
       "      <td>2573.764683</td>\n",
       "      <td>0.417654</td>\n",
       "    </tr>\n",
       "    <tr>\n",
       "      <th>min</th>\n",
       "      <td>0.000000</td>\n",
       "      <td>1089.000000</td>\n",
       "      <td>0.000000</td>\n",
       "    </tr>\n",
       "    <tr>\n",
       "      <th>25%</th>\n",
       "      <td>22.000000</td>\n",
       "      <td>3030.000000</td>\n",
       "      <td>0.000000</td>\n",
       "    </tr>\n",
       "    <tr>\n",
       "      <th>50%</th>\n",
       "      <td>32.500000</td>\n",
       "      <td>5000.000000</td>\n",
       "      <td>0.000000</td>\n",
       "    </tr>\n",
       "    <tr>\n",
       "      <th>75%</th>\n",
       "      <td>37.750000</td>\n",
       "      <td>8000.000000</td>\n",
       "      <td>0.000000</td>\n",
       "    </tr>\n",
       "    <tr>\n",
       "      <th>max</th>\n",
       "      <td>54.000000</td>\n",
       "      <td>9876.000000</td>\n",
       "      <td>1.000000</td>\n",
       "    </tr>\n",
       "  </tbody>\n",
       "</table>\n",
       "</div>"
      ],
      "text/plain": [
       "              Age       Salary      Gender\n",
       "count  130.000000   124.000000  148.000000\n",
       "mean    30.484615  5312.467742    0.222973\n",
       "std     11.096640  2573.764683    0.417654\n",
       "min      0.000000  1089.000000    0.000000\n",
       "25%     22.000000  3030.000000    0.000000\n",
       "50%     32.500000  5000.000000    0.000000\n",
       "75%     37.750000  8000.000000    0.000000\n",
       "max     54.000000  9876.000000    1.000000"
      ]
     },
     "execution_count": 16,
     "metadata": {},
     "output_type": "execute_result"
    }
   ],
   "source": [
    "#  Statistical Analysis of Numerical Features\n",
    "df.describe()"
   ]
  },
  {
   "cell_type": "code",
   "execution_count": 17,
   "id": "4a478b7b-ee56-40e2-9310-a89c13a31875",
   "metadata": {},
   "outputs": [],
   "source": [
    "import os"
   ]
  },
  {
   "cell_type": "code",
   "execution_count": 18,
   "id": "8a9b5218-d536-4173-a55e-b7dfb2cf7e48",
   "metadata": {},
   "outputs": [
    {
     "data": {
      "text/html": [
       "<div>\n",
       "<style scoped>\n",
       "    .dataframe tbody tr th:only-of-type {\n",
       "        vertical-align: middle;\n",
       "    }\n",
       "\n",
       "    .dataframe tbody tr th {\n",
       "        vertical-align: top;\n",
       "    }\n",
       "\n",
       "    .dataframe thead th {\n",
       "        text-align: right;\n",
       "    }\n",
       "</style>\n",
       "<table border=\"1\" class=\"dataframe\">\n",
       "  <thead>\n",
       "    <tr style=\"text-align: right;\">\n",
       "      <th></th>\n",
       "      <th>Company</th>\n",
       "      <th>Years</th>\n",
       "      <th>Salary</th>\n",
       "      <th>Location</th>\n",
       "      <th>Country</th>\n",
       "      <th>Gender</th>\n",
       "    </tr>\n",
       "  </thead>\n",
       "  <tbody>\n",
       "    <tr>\n",
       "      <th>0</th>\n",
       "      <td>TCS</td>\n",
       "      <td>20.0</td>\n",
       "      <td>NaN</td>\n",
       "      <td>Chennai</td>\n",
       "      <td>India</td>\n",
       "      <td>0</td>\n",
       "    </tr>\n",
       "    <tr>\n",
       "      <th>1</th>\n",
       "      <td>Infosys</td>\n",
       "      <td>30.0</td>\n",
       "      <td>NaN</td>\n",
       "      <td>Mumbai</td>\n",
       "      <td>India</td>\n",
       "      <td>0</td>\n",
       "    </tr>\n",
       "    <tr>\n",
       "      <th>2</th>\n",
       "      <td>TCS</td>\n",
       "      <td>35.0</td>\n",
       "      <td>2300.0</td>\n",
       "      <td>Calcutta</td>\n",
       "      <td>India</td>\n",
       "      <td>0</td>\n",
       "    </tr>\n",
       "    <tr>\n",
       "      <th>3</th>\n",
       "      <td>Infosys</td>\n",
       "      <td>40.0</td>\n",
       "      <td>3000.0</td>\n",
       "      <td>Delhi</td>\n",
       "      <td>India</td>\n",
       "      <td>0</td>\n",
       "    </tr>\n",
       "    <tr>\n",
       "      <th>4</th>\n",
       "      <td>TCS</td>\n",
       "      <td>23.0</td>\n",
       "      <td>4000.0</td>\n",
       "      <td>Mumbai</td>\n",
       "      <td>India</td>\n",
       "      <td>0</td>\n",
       "    </tr>\n",
       "  </tbody>\n",
       "</table>\n",
       "</div>"
      ],
      "text/plain": [
       "   Company  Years  Salary  Location Country  Gender\n",
       "0      TCS   20.0     NaN   Chennai   India       0\n",
       "1  Infosys   30.0     NaN    Mumbai   India       0\n",
       "2      TCS   35.0  2300.0  Calcutta   India       0\n",
       "3  Infosys   40.0  3000.0     Delhi   India       0\n",
       "4      TCS   23.0  4000.0    Mumbai   India       0"
      ]
     },
     "execution_count": 18,
     "metadata": {},
     "output_type": "execute_result"
    }
   ],
   "source": [
    "# Renaming of the columns.\n",
    "df_new=df.rename(columns={'Age':'Years','Place':'Location'},inplace=True)\n",
    "df.head()"
   ]
  },
  {
   "cell_type": "markdown",
   "id": "8ce02479-28f8-486e-a25c-0dd61deb11c1",
   "metadata": {},
   "source": [
    "## Data Cleaning"
   ]
  },
  {
   "cell_type": "code",
   "execution_count": 20,
   "id": "5763660f-86d6-4d3d-923f-fa32f3d2c6b2",
   "metadata": {},
   "outputs": [
    {
     "data": {
      "text/plain": [
       "Company      8\n",
       "Years       18\n",
       "Salary      24\n",
       "Location    14\n",
       "Country      0\n",
       "Gender       0\n",
       "dtype: int64"
      ]
     },
     "execution_count": 20,
     "metadata": {},
     "output_type": "execute_result"
    }
   ],
   "source": [
    "# Find the missing and inappropriate values, treat them appropriately\n",
    "\n",
    "df.isnull().sum()"
   ]
  },
  {
   "cell_type": "code",
   "execution_count": 21,
   "id": "9f447f60-59d2-4d5d-889a-b81e4799825d",
   "metadata": {},
   "outputs": [
    {
     "name": "stdout",
     "output_type": "stream",
     "text": [
      "Replaced 6 '0' values in 'Years' with NaN.\n"
     ]
    }
   ],
   "source": [
    "if 'Years' in df.columns:\n",
    "    # Check for '0' values that are not already NaN\n",
    "    zero_age_count = (df['Years'] == 0).sum()\n",
    "    if zero_age_count > 0:\n",
    "        df['Years'] = df['Years'].replace(0, np.nan)\n",
    "        print(f\"Replaced {zero_age_count} '0' values in 'Years' with NaN.\")\n",
    "    else:\n",
    "        print(\"No '0' values found in 'Years' to replace with NaN.\")\n",
    "else:\n",
    "    print(\"'Years' column not found. Skipping '0' replacement.\")"
   ]
  },
  {
   "cell_type": "code",
   "execution_count": 22,
   "id": "dbf87c8c-7666-42ff-b37e-6af7af17a97d",
   "metadata": {},
   "outputs": [
    {
     "data": {
      "text/plain": [
       "Company      8\n",
       "Years       24\n",
       "Salary      24\n",
       "Location    14\n",
       "Country      0\n",
       "Gender       0\n",
       "dtype: int64"
      ]
     },
     "execution_count": 22,
     "metadata": {},
     "output_type": "execute_result"
    }
   ],
   "source": [
    "df.isnull().sum()"
   ]
  },
  {
   "cell_type": "code",
   "execution_count": 23,
   "id": "d1bc14b4-822a-4b9b-9d71-d66aaf21cce6",
   "metadata": {},
   "outputs": [
    {
     "name": "stdout",
     "output_type": "stream",
     "text": [
      "\n",
      "--- Removing Duplicate Rows ---\n",
      "Removed 4 duplicate rows.\n",
      "DataFrame now has 144 rows.\n"
     ]
    }
   ],
   "source": [
    "print(\"\\n--- Removing Duplicate Rows ---\")\n",
    "initial_rows = df.shape[0]\n",
    "df.drop_duplicates(inplace=True)\n",
    "rows_after_duplicates = df.shape[0]\n",
    "print(f\"Removed {initial_rows - rows_after_duplicates} duplicate rows.\")\n",
    "print(f\"DataFrame now has {rows_after_duplicates} rows.\")\n"
   ]
  },
  {
   "cell_type": "code",
   "execution_count": 24,
   "id": "b4094a7e-32c6-4748-b5b9-5008907c026d",
   "metadata": {},
   "outputs": [
    {
     "name": "stdout",
     "output_type": "stream",
     "text": [
      "\n",
      "--- Outlier Detection (using IQR method for numerical columns) ---\n",
      "Skipping outlier detection for 'Gender' as it appears to be a binary/categorical column.\n"
     ]
    }
   ],
   "source": [
    "print(\"\\n--- Outlier Detection (using IQR method for numerical columns) ---\")\n",
    "numerical_cols = df.select_dtypes(include=np.number).columns.tolist()\n",
    "outliers_found = {}\n",
    "\n",
    "for col in numerical_cols:\n",
    "    # Skip columns that might be ID-like or have very few unique values if they are not truly numerical for outlier detection\n",
    "    if col in ['Gender'] and df[col].nunique() <= 2: # Assuming Gender is 0/1 and not a numerical quantity for outliers\n",
    "        print(f\"Skipping outlier detection for '{col}' as it appears to be a binary/categorical column.\")\n",
    "        continue\n",
    "\n",
    "    Q1 = df[col].quantile(0.25)\n",
    "    Q3 = df[col].quantile(0.75)\n",
    "    IQR = Q3 - Q1\n",
    "    lower_bound = Q1 - 1.5 * IQR\n",
    "    upper_bound = Q3 + 1.5 * IQR"
   ]
  },
  {
   "cell_type": "code",
   "execution_count": 25,
   "id": "e1ecc880-60d3-4003-a052-5d0d47900181",
   "metadata": {},
   "outputs": [
    {
     "name": "stdout",
     "output_type": "stream",
     "text": [
      "No significant outliers found in 'Gender'.\n",
      "No outliers detected across numerical columns using the IQR method.\n"
     ]
    }
   ],
   "source": [
    "# Identify outliers\n",
    "col_outliers = df[(df[col] < lower_bound) | (df[col] > upper_bound)][col]\n",
    "if not col_outliers.empty:\n",
    "    outliers_found[col] = col_outliers.tolist()\n",
    "    print(f\"Outliers in '{col}': {len(col_outliers)} values found.\")\n",
    "        # print(f\"  Values: {col_outliers.tolist()}\") # Uncomment to see the actual outlier values\n",
    "else:\n",
    "    print(f\"No significant outliers found in '{col}'.\")\n",
    "\n",
    "if not outliers_found:\n",
    "    print(\"No outliers detected across numerical columns using the IQR method.\")"
   ]
  },
  {
   "cell_type": "code",
   "execution_count": 26,
   "id": "3c5cbf6e-c562-43a5-ad79-7ecd4594e0cc",
   "metadata": {},
   "outputs": [
    {
     "name": "stdout",
     "output_type": "stream",
     "text": [
      "\n",
      "--- Treating Null Values in all columns ---\n",
      "Filled missing values in categorical column 'Company' with mode: TCS\n",
      "Filled missing values in numerical column 'Years' with median: 33.0\n",
      "Filled missing values in numerical column 'Salary' with median: 5000.0\n",
      "Filled missing values in categorical column 'Location' with mode: Mumbai\n",
      "\n",
      "--- Missing Values after Treatment ---\n",
      "Company     0\n",
      "Years       0\n",
      "Salary      0\n",
      "Location    0\n",
      "Country     0\n",
      "Gender      0\n",
      "dtype: int64\n",
      "\n",
      "--- Data after Cleaning ---\n",
      "   Company  Years  Salary  Location Country  Gender\n",
      "0      TCS   20.0  5000.0   Chennai   India       0\n",
      "1  Infosys   30.0  5000.0    Mumbai   India       0\n",
      "2      TCS   35.0  2300.0  Calcutta   India       0\n",
      "3  Infosys   40.0  3000.0     Delhi   India       0\n",
      "4      TCS   23.0  4000.0    Mumbai   India       0\n"
     ]
    },
    {
     "name": "stderr",
     "output_type": "stream",
     "text": [
      "C:\\Users\\liana\\AppData\\Local\\Temp\\ipykernel_6148\\1818283321.py:25: FutureWarning: A value is trying to be set on a copy of a DataFrame or Series through chained assignment using an inplace method.\n",
      "The behavior will change in pandas 3.0. This inplace method will never work because the intermediate object on which we are setting values always behaves as a copy.\n",
      "\n",
      "For example, when doing 'df[col].method(value, inplace=True)', try using 'df.method({col: value}, inplace=True)' or df[col] = df[col].method(value) instead, to perform the operation inplace on the original object.\n",
      "\n",
      "\n",
      "  df[column].fillna(mode_val, inplace=True)\n",
      "C:\\Users\\liana\\AppData\\Local\\Temp\\ipykernel_6148\\1818283321.py:18: FutureWarning: A value is trying to be set on a copy of a DataFrame or Series through chained assignment using an inplace method.\n",
      "The behavior will change in pandas 3.0. This inplace method will never work because the intermediate object on which we are setting values always behaves as a copy.\n",
      "\n",
      "For example, when doing 'df[col].method(value, inplace=True)', try using 'df.method({col: value}, inplace=True)' or df[col] = df[col].method(value) instead, to perform the operation inplace on the original object.\n",
      "\n",
      "\n",
      "  df[column].fillna(median_val, inplace=True)\n"
     ]
    }
   ],
   "source": [
    "# Note: For demonstration, we are only identifying outliers.Common strategies to treat outliers include:\n",
    "# 1. Removal: If outliers are few and clearly erroneous.\n",
    "# 2. Capping/Winsorization: Replace outliers with the nearest non-outlier value.\n",
    "# 3. Transformation: Apply log or square root transformation.\n",
    "# For this project, we'll proceed without explicit outlier treatment beyond identification,\n",
    "# as the prompt only asks to \"find\" them.\n",
    "\n",
    "print(\"\\n--- Treating Null Values in all columns ---\")\n",
    "# Strategy:\n",
    "# - Numerical columns: Replace with median (robust to outliers)\n",
    "# - Categorical columns: Replace with mode (most frequent value)\n",
    "\n",
    "for column in df.columns:\n",
    "    if df[column].isnull().any(): # Check if there are any null values in the column\n",
    "        if df[column].dtype in ['int64', 'float64']:\n",
    "            # Impute numerical columns with median\n",
    "            median_val = df[column].median()\n",
    "            df[column].fillna(median_val, inplace=True)\n",
    "            print(f\"Filled missing values in numerical column '{column}' with median: {median_val}\")\n",
    "        else:\n",
    "            # Impute categorical columns with mode\n",
    "            # Handle cases where mode might return multiple values or column is entirely NaN\n",
    "            if not df[column].mode().empty:\n",
    "                mode_val = df[column].mode()[0] # .mode() can return multiple if tied, take the first\n",
    "                df[column].fillna(mode_val, inplace=True)\n",
    "                print(f\"Filled missing values in categorical column '{column}' with mode: {mode_val}\")\n",
    "            else:\n",
    "                print(f\"Could not determine mode for column '{column}' (possibly all NaN or empty). Skipping imputation.\")\n",
    "\n",
    "print(\"\\n--- Missing Values after Treatment ---\")\n",
    "print(df.isnull().sum())\n",
    "print(\"\\n--- Data after Cleaning ---\")\n",
    "print(df.head())\n"
   ]
  },
  {
   "cell_type": "code",
   "execution_count": 27,
   "id": "13eac6fd-0f90-4940-aefd-0ef589f1900d",
   "metadata": {},
   "outputs": [
    {
     "name": "stdout",
     "output_type": "stream",
     "text": [
      "\n",
      "--- 3. Data Analysis ---\n",
      "\n",
      "--- Filtering data with Years > 40 and Salary < 5000 ---\n",
      "Number of records matching filter: 15\n",
      "Filtered Data Head:\n",
      "    Company  Years  Salary   Location Country  Gender\n",
      "21  Infosys   50.0  3184.0      Delhi   India       0\n",
      "32  Infosys   45.0  4034.0   Calcutta   India       0\n",
      "39  Infosys   41.0  3000.0     Mumbai   India       0\n",
      "50  Infosys   41.0  3000.0    Chennai   India       0\n",
      "57  Infosys   51.0  3184.0  Hyderabad   India       0\n",
      "\n",
      "--- Plotting chart with Years and Salary (Scatter Plot) ---\n"
     ]
    },
    {
     "data": {
      "image/png": "[encoded data removed]",
      "text/plain": [
       "<Figure size 1000x600 with 1 Axes>"
      ]
     },
     "metadata": {},
     "output_type": "display_data"
    }
   ],
   "source": [
    "# --- 3. Data Analysis ---\n",
    "print(\"\\n--- 3. Data Analysis ---\")\n",
    "\n",
    "age_col = 'Years'\n",
    "salary_col = 'Salary'\n",
    "\n",
    "if age_col in df.columns and salary_col in df.columns:\n",
    "    print(f\"\\n--- Filtering data with {age_col} > 40 and {salary_col} < 5000 ---\")\n",
    "    filtered_data = df[(df[age_col] > 40) & (df[salary_col] < 5000)]\n",
    "    print(f\"Number of records matching filter: {filtered_data.shape[0]}\")\n",
    "    print(\"Filtered Data Head:\")\n",
    "    print(filtered_data.head())\n",
    "else:\n",
    "    print(f\"Skipping filtering: '{age_col}' or '{salary_col}' column not found after renaming.\")\n",
    "\n",
    "if age_col in df.columns and salary_col in df.columns:\n",
    "    print(f\"\\n--- Plotting chart with {age_col} and {salary_col} (Scatter Plot) ---\")\n",
    "    plt.figure(figsize=(10, 6))\n",
    "    sns.scatterplot(x=age_col, y=salary_col, data=df)\n",
    "    plt.title(f'{age_col} vs {salary_col}')\n",
    "    plt.xlabel(age_col)\n",
    "    plt.ylabel(salary_col)\n",
    "    plt.grid(True)\n",
    "    plt.show()\n",
    "else:\n",
    "    print(f\"Skipping scatter plot: '{age_col}' or '{salary_col}' column not found.\")\n",
    "\n",
    "\n"
   ]
  },
  {
   "cell_type": "code",
   "execution_count": 28,
   "id": "78b72d4e-8c63-48e6-917f-2d34cf3731d0",
   "metadata": {},
   "outputs": [
    {
     "name": "stdout",
     "output_type": "stream",
     "text": [
      "\n",
      "--- Counting number of people from each place and representing it visually (Bar Chart) ---\n",
      "Skipping place count plot: 'Place' column not found.\n"
     ]
    }
   ],
   "source": [
    "print(\"\\n--- Counting number of people from each place and representing it visually (Bar Chart) ---\")\n",
    "if 'Place' in df.columns:\n",
    "    # Ensure 'Place' column is treated as string for value_counts\n",
    "    df['Place'] = df_['Place'].astype(str)\n",
    "    place_counts = df['Place'].value_counts()\n",
    "    print(\"Count of people from each place:\")\n",
    "    print(place_counts)\n",
    "\n",
    "    plt.figure(figsize=(12, 7))\n",
    "    sns.barplot(x=place_counts.index, y=place_counts.values, palette='viridis')\n",
    "    plt.title('Number of People from Each Place')\n",
    "    plt.xlabel('Place')\n",
    "    plt.ylabel('Number of People')\n",
    "    plt.xticks(rotation=45, ha='right')\n",
    "    plt.tight_layout()\n",
    "    plt.show()\n",
    "else:\n",
    "    print(\"Skipping place count plot: 'Place' column not found.\")\n"
   ]
  },
  {
   "cell_type": "code",
   "execution_count": 29,
   "id": "35f1129f-8cae-43ba-8f12-ee0ab9e48bb2",
   "metadata": {},
   "outputs": [
    {
     "name": "stdout",
     "output_type": "stream",
     "text": [
      "\n",
      "--- 4. Data Encoding ---\n",
      "Categorical columns identified for encoding: ['Company', 'Location', 'Country']\n"
     ]
    }
   ],
   "source": [
    "# --- 4. Data Encoding ---\n",
    "print(\"\\n--- 4. Data Encoding ---\")\n",
    "\n",
    "# Identify categorical columns (excluding numerical columns, and columns that might be unique IDs)\n",
    "# For 'Employee.csv', 'Company', 'Place', 'Country' are categorical. 'Gender' is already numerical (0/1).\n",
    "categorical_cols = df.select_dtypes(include=['object', 'category']).columns.tolist()\n",
    "print(f\"Categorical columns identified for encoding: {categorical_cols}\")\n"
   ]
  },
  {
   "cell_type": "code",
   "execution_count": 48,
   "id": "1b7b48b2-6b84-42c3-a642-b6462527f623",
   "metadata": {},
   "outputs": [
    {
     "name": "stdout",
     "output_type": "stream",
     "text": [
      "\n",
      "--- Applying Label Encoding ---\n",
      "  'Company' encoded to 'Company_LabelEncoded'\n",
      "  'Location' encoded to 'Location_LabelEncoded'\n",
      "  'Country' encoded to 'Country_LabelEncoded'\n",
      "DataFrame after Label Encoding (showing new columns):\n",
      "   Company  Location Country  Company_LabelEncoded  Location_LabelEncoded  \\\n",
      "0      TCS   Chennai   India                     4                      2   \n",
      "1  Infosys    Mumbai   India                     2                      6   \n",
      "2      TCS  Calcutta   India                     4                      1   \n",
      "3  Infosys     Delhi   India                     2                      4   \n",
      "4      TCS    Mumbai   India                     4                      6   \n",
      "\n",
      "   Country_LabelEncoded  \n",
      "0                     0  \n",
      "1                     0  \n",
      "2                     0  \n",
      "3                     0  \n",
      "4                     0  \n"
     ]
    }
   ],
   "source": [
    "# --- Label Encoding ---\n",
    "print(\"\\n--- Applying Label Encoding ---\")\n",
    "df_label_encoded = df.copy()\n",
    "label_encoders = {}\n",
    "for col in categorical_cols:\n",
    "    le = LabelEncoder()\n",
    "    df_label_encoded[f'{col}_LabelEncoded'] = le.fit_transform(df_label_encoded[col])\n",
    "    label_encoders[col] = le\n",
    "    print(f\"  '{col}' encoded to '{col}_LabelEncoded'\")\n",
    "\n",
    "print(\"DataFrame after Label Encoding (showing new columns):\")\n",
    "print(df_label_encoded[[col for col in df_label_encoded.columns if 'LabelEncoded' in col or col in categorical_cols]].head())"
   ]
  },
  {
   "cell_type": "code",
   "execution_count": 50,
   "id": "78e3ec6a-3496-4d4f-8c06-b1629f698aea",
   "metadata": {},
   "outputs": [
    {
     "name": "stdout",
     "output_type": "stream",
     "text": [
      "\n",
      "--- Applying One-Hot Encoding ---\n",
      "DataFrame after One-Hot Encoding (showing new and original columns):\n",
      "   Years  Salary  Gender  Company_Congnizant  Company_Infosys  \\\n",
      "0   20.0  5000.0       0               False            False   \n",
      "1   30.0  5000.0       0               False             True   \n",
      "2   35.0  2300.0       0               False            False   \n",
      "3   40.0  3000.0       0               False             True   \n",
      "4   23.0  4000.0       0               False            False   \n",
      "\n",
      "   Company_Infosys Pvt Lmt  Company_TCS  Company_Tata Consultancy Services  \\\n",
      "0                    False         True                              False   \n",
      "1                    False        False                              False   \n",
      "2                    False         True                              False   \n",
      "3                    False        False                              False   \n",
      "4                    False         True                              False   \n",
      "\n",
      "   Location_Calcutta  Location_Chennai  Location_Cochin  Location_Delhi  \\\n",
      "0              False              True            False           False   \n",
      "1              False             False            False           False   \n",
      "2               True             False            False           False   \n",
      "3              False             False            False            True   \n",
      "4              False             False            False           False   \n",
      "\n",
      "   Location_Hyderabad  Location_Mumbai  Location_Nagpur  Location_Noida  \\\n",
      "0               False            False            False           False   \n",
      "1               False             True            False           False   \n",
      "2               False            False            False           False   \n",
      "3               False            False            False           False   \n",
      "4               False             True            False           False   \n",
      "\n",
      "   Location_Podicherry  Location_Pune  \n",
      "0                False          False  \n",
      "1                False          False  \n",
      "2                False          False  \n",
      "3                False          False  \n",
      "4                False          False  \n",
      "Shape after One-Hot Encoding: (144, 18)\n"
     ]
    }
   ],
   "source": [
    "# --- One-Hot Encoding ---\n",
    "print(\"\\n--- Applying One-Hot Encoding ---\")\n",
    "# For One-Hot Encoding, it's common to drop the original categorical columns\n",
    "# after encoding to avoid multicollinearity and redundancy.\n",
    "df_one_hot_encoded = df.copy()\n",
    "df_one_hot_encoded = pd.get_dummies(df_one_hot_encoded, columns=categorical_cols, drop_first=True) # drop_first=True to avoid multicollinearity\n",
    "print(\"DataFrame after One-Hot Encoding (showing new and original columns):\")\n",
    "print(df_one_hot_encoded.head())\n",
    "print(f\"Shape after One-Hot Encoding: {df_one_hot_encoded.shape}\")"
   ]
  },
  {
   "cell_type": "code",
   "execution_count": 52,
   "id": "10706cd1-9a98-4929-8689-3329d76a1db8",
   "metadata": {},
   "outputs": [
    {
     "name": "stdout",
     "output_type": "stream",
     "text": [
      "\n",
      "--- 5. Feature Scaling ---\n",
      "Numerical columns identified for scaling: ['Years', 'Salary', 'Gender']\n"
     ]
    }
   ],
   "source": [
    "# --- 5. Feature Scaling ---\n",
    "print(\"\\n--- 5. Feature Scaling ---\")\n",
    "\n",
    "# Identify numerical columns for scaling after encoding.\n",
    "# We'll use the one-hot encoded dataframe for scaling as it's typically the final representation for ML.\n",
    "# Exclude any non-numeric columns that might have slipped through (though get_dummies handles this well).\n",
    "numerical_cols_for_scaling = df_one_hot_encoded.select_dtypes(include=np.number).columns.tolist()\n",
    "print(f\"Numerical columns identified for scaling: {numerical_cols_for_scaling}\")"
   ]
  },
  {
   "cell_type": "code",
   "execution_count": 54,
   "id": "0048df90-9b82-4fd0-8150-d97d942e188e",
   "metadata": {},
   "outputs": [
    {
     "name": "stdout",
     "output_type": "stream",
     "text": [
      "\n",
      "--- Applying StandardScaler ---\n",
      "DataFrame after StandardScaler (first 5 rows of scaled numerical features):\n",
      "      Years    Salary    Gender\n",
      "0 -1.484676 -0.100827 -0.534522\n",
      "1 -0.267174 -0.100827 -0.534522\n",
      "2  0.341577 -1.243735 -0.534522\n",
      "3  0.950328 -0.947426 -0.534522\n",
      "4 -1.119426 -0.524127 -0.534522\n",
      "Min values after StandardScaler: \n",
      "Years    -1.849927\n",
      "Salary   -1.756350\n",
      "Gender   -0.534522\n",
      "dtype: float64\n",
      "Max values after StandardScaler: \n",
      "Years     2.654831\n",
      "Salary    1.963179\n",
      "Gender    1.870829\n",
      "dtype: float64\n",
      "Mean values after StandardScaler: \n",
      "Years     2.073958e-16\n",
      "Salary    4.625929e-17\n",
      "Gender    6.167906e-17\n",
      "dtype: float64\n",
      "Std Dev values after StandardScaler: \n",
      "Years     1.00349\n",
      "Salary    1.00349\n",
      "Gender    1.00349\n",
      "dtype: float64\n"
     ]
    }
   ],
   "source": [
    "# --- StandardScaler ---\n",
    "print(\"\\n--- Applying StandardScaler ---\")\n",
    "scaler_standard = StandardScaler()\n",
    "# Fit and transform only the numerical columns\n",
    "df_scaled_standard = df_one_hot_encoded.copy()\n",
    "df_scaled_standard[numerical_cols_for_scaling] = scaler_standard.fit_transform(df_scaled_standard[numerical_cols_for_scaling])\n",
    "print(\"DataFrame after StandardScaler (first 5 rows of scaled numerical features):\")\n",
    "print(df_scaled_standard[numerical_cols_for_scaling].head())\n",
    "print(f\"Min values after StandardScaler: \\n{df_scaled_standard[numerical_cols_for_scaling].min()}\")\n",
    "print(f\"Max values after StandardScaler: \\n{df_scaled_standard[numerical_cols_for_scaling].max()}\")\n",
    "print(f\"Mean values after StandardScaler: \\n{df_scaled_standard[numerical_cols_for_scaling].mean()}\")\n",
    "print(f\"Std Dev values after StandardScaler: \\n{df_scaled_standard[numerical_cols_for_scaling].std()}\")"
   ]
  },
  {
   "cell_type": "code",
   "execution_count": 56,
   "id": "154cdf84-494e-4bba-95cf-eb4edc6b6af2",
   "metadata": {},
   "outputs": [
    {
     "name": "stdout",
     "output_type": "stream",
     "text": [
      "\n",
      "--- Applying MinMaxScaler ---\n",
      "DataFrame after MinMaxScaler (first 5 rows of scaled numerical features):\n",
      "      Years    Salary  Gender\n",
      "0  0.081081  0.445089     0.0\n",
      "1  0.351351  0.445089     0.0\n",
      "2  0.486486  0.137817     0.0\n",
      "3  0.621622  0.217480     0.0\n",
      "4  0.162162  0.331285     0.0\n",
      "Min values after MinMaxScaler: \n",
      "Years     0.0\n",
      "Salary    0.0\n",
      "Gender    0.0\n",
      "dtype: float64\n",
      "Max values after MinMaxScaler: \n",
      "Years     1.0\n",
      "Salary    1.0\n",
      "Gender    1.0\n",
      "dtype: float64\n",
      "\n",
      "--- EDA and Preprocessing Complete ---\n",
      "The processed dataframes are: df_processed (cleaned), df_label_encoded, df_one_hot_encoded, df_scaled_standard, df_scaled_minmax.\n"
     ]
    }
   ],
   "source": [
    "# --- MinMaxScaler ---\n",
    "print(\"\\n--- Applying MinMaxScaler ---\")\n",
    "scaler_minmax = MinMaxScaler()\n",
    "# Fit and transform only the numerical columns\n",
    "df_scaled_minmax = df_one_hot_encoded.copy()\n",
    "df_scaled_minmax[numerical_cols_for_scaling] = scaler_minmax.fit_transform(df_scaled_minmax[numerical_cols_for_scaling])\n",
    "print(\"DataFrame after MinMaxScaler (first 5 rows of scaled numerical features):\")\n",
    "print(df_scaled_minmax[numerical_cols_for_scaling].head())\n",
    "print(f\"Min values after MinMaxScaler: \\n{df_scaled_minmax[numerical_cols_for_scaling].min()}\")\n",
    "print(f\"Max values after MinMaxScaler: \\n{df_scaled_minmax[numerical_cols_for_scaling].max()}\")\n",
    "\n",
    "print(\"\\n--- EDA and Preprocessing Complete ---\")\n",
    "print(\"The processed dataframes are: df_processed (cleaned), df_label_encoded, df_one_hot_encoded, df_scaled_standard, df_scaled_minmax.\")"
   ]
  },
  {
   "cell_type": "code",
   "execution_count": null,
   "id": "eeccbb13-3191-490c-acdc-2f4eec9c35fa",
   "metadata": {},
   "outputs": [],
   "source": []
  }
 ],
 "metadata": {
  "kernelspec": {
   "display_name": "Python [conda env:base] *",
   "language": "python",
   "name": "conda-base-py"
  },
  "language_info": {
   "codemirror_mode": {
    "name": "ipython",
    "version": 3
   },
   "file_extension": ".py",
   "mimetype": "text/x-python",
   "name": "python",
   "nbconvert_exporter": "python",
   "pygments_lexer": "ipython3",
   "version": "3.12.7"
  }
 },
 "nbformat": 4,
 "nbformat_minor": 5
}
